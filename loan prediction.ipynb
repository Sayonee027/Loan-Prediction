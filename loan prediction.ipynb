{
 "cells": [
  {
   "cell_type": "code",
   "execution_count": 1,
   "metadata": {},
   "outputs": [],
   "source": [
    "import numpy as np\n",
    "import pandas as pd\n",
    "from sklearn.model_selection import train_test_split\n",
    "from sklearn import preprocessing\n",
    "from sklearn.preprocessing import LabelEncoder\n",
    "from sklearn.neighbors import KNeighborsClassifier\n",
    "from sklearn.tree import DecisionTreeClassifier\n",
    "from sklearn.linear_model import LogisticRegression\n",
    "from sklearn import metrics"
   ]
  },
  {
   "cell_type": "code",
   "execution_count": 2,
   "metadata": {},
   "outputs": [
    {
     "data": {
      "text/html": [
       "<div>\n",
       "<style scoped>\n",
       "    .dataframe tbody tr th:only-of-type {\n",
       "        vertical-align: middle;\n",
       "    }\n",
       "\n",
       "    .dataframe tbody tr th {\n",
       "        vertical-align: top;\n",
       "    }\n",
       "\n",
       "    .dataframe thead th {\n",
       "        text-align: right;\n",
       "    }\n",
       "</style>\n",
       "<table border=\"1\" class=\"dataframe\">\n",
       "  <thead>\n",
       "    <tr style=\"text-align: right;\">\n",
       "      <th></th>\n",
       "      <th>Loan_ID</th>\n",
       "      <th>Gender</th>\n",
       "      <th>Married</th>\n",
       "      <th>Dependents</th>\n",
       "      <th>Education</th>\n",
       "      <th>Self_Employed</th>\n",
       "      <th>ApplicantIncome</th>\n",
       "      <th>CoapplicantIncome</th>\n",
       "      <th>LoanAmount</th>\n",
       "      <th>Loan_Amount_Term</th>\n",
       "      <th>Credit_History</th>\n",
       "      <th>Property_Area</th>\n",
       "      <th>Loan_Status</th>\n",
       "    </tr>\n",
       "  </thead>\n",
       "  <tbody>\n",
       "    <tr>\n",
       "      <th>0</th>\n",
       "      <td>LP001003</td>\n",
       "      <td>Male</td>\n",
       "      <td>Yes</td>\n",
       "      <td>1</td>\n",
       "      <td>Graduate</td>\n",
       "      <td>No</td>\n",
       "      <td>4583</td>\n",
       "      <td>1508.0</td>\n",
       "      <td>128</td>\n",
       "      <td>360</td>\n",
       "      <td>1</td>\n",
       "      <td>Rural</td>\n",
       "      <td>N</td>\n",
       "    </tr>\n",
       "    <tr>\n",
       "      <th>1</th>\n",
       "      <td>LP001005</td>\n",
       "      <td>Male</td>\n",
       "      <td>Yes</td>\n",
       "      <td>0</td>\n",
       "      <td>Graduate</td>\n",
       "      <td>Yes</td>\n",
       "      <td>3000</td>\n",
       "      <td>0.0</td>\n",
       "      <td>66</td>\n",
       "      <td>360</td>\n",
       "      <td>1</td>\n",
       "      <td>Urban</td>\n",
       "      <td>Y</td>\n",
       "    </tr>\n",
       "    <tr>\n",
       "      <th>2</th>\n",
       "      <td>LP001006</td>\n",
       "      <td>Male</td>\n",
       "      <td>Yes</td>\n",
       "      <td>0</td>\n",
       "      <td>Not Graduate</td>\n",
       "      <td>No</td>\n",
       "      <td>2583</td>\n",
       "      <td>2358.0</td>\n",
       "      <td>120</td>\n",
       "      <td>360</td>\n",
       "      <td>1</td>\n",
       "      <td>Urban</td>\n",
       "      <td>Y</td>\n",
       "    </tr>\n",
       "    <tr>\n",
       "      <th>3</th>\n",
       "      <td>LP001008</td>\n",
       "      <td>Male</td>\n",
       "      <td>No</td>\n",
       "      <td>0</td>\n",
       "      <td>Graduate</td>\n",
       "      <td>No</td>\n",
       "      <td>6000</td>\n",
       "      <td>0.0</td>\n",
       "      <td>141</td>\n",
       "      <td>360</td>\n",
       "      <td>1</td>\n",
       "      <td>Urban</td>\n",
       "      <td>Y</td>\n",
       "    </tr>\n",
       "    <tr>\n",
       "      <th>4</th>\n",
       "      <td>LP001011</td>\n",
       "      <td>Male</td>\n",
       "      <td>Yes</td>\n",
       "      <td>2</td>\n",
       "      <td>Graduate</td>\n",
       "      <td>Yes</td>\n",
       "      <td>5417</td>\n",
       "      <td>4196.0</td>\n",
       "      <td>267</td>\n",
       "      <td>360</td>\n",
       "      <td>1</td>\n",
       "      <td>Urban</td>\n",
       "      <td>Y</td>\n",
       "    </tr>\n",
       "  </tbody>\n",
       "</table>\n",
       "</div>"
      ],
      "text/plain": [
       "    Loan_ID Gender Married Dependents     Education Self_Employed  \\\n",
       "0  LP001003   Male     Yes          1      Graduate            No   \n",
       "1  LP001005   Male     Yes          0      Graduate           Yes   \n",
       "2  LP001006   Male     Yes          0  Not Graduate            No   \n",
       "3  LP001008   Male      No          0      Graduate            No   \n",
       "4  LP001011   Male     Yes          2      Graduate           Yes   \n",
       "\n",
       "   ApplicantIncome  CoapplicantIncome  LoanAmount  Loan_Amount_Term  \\\n",
       "0             4583             1508.0         128               360   \n",
       "1             3000                0.0          66               360   \n",
       "2             2583             2358.0         120               360   \n",
       "3             6000                0.0         141               360   \n",
       "4             5417             4196.0         267               360   \n",
       "\n",
       "   Credit_History Property_Area Loan_Status  \n",
       "0               1         Rural           N  \n",
       "1               1         Urban           Y  \n",
       "2               1         Urban           Y  \n",
       "3               1         Urban           Y  \n",
       "4               1         Urban           Y  "
      ]
     },
     "execution_count": 2,
     "metadata": {},
     "output_type": "execute_result"
    }
   ],
   "source": [
    "#save in dataframe\n",
    "url=\"https://raw.githubusercontent.com/callxpert/datasets/master/Loan-applicant-details.csv\"\n",
    "names = ['Loan_ID','Gender','Married','Dependents','Education','Self_Employed','ApplicantIncome','CoapplicantIncome','LoanAmount','Loan_Amount_Term','Credit_History','Property_Area','Loan_Status']\n",
    "df=pd.read_csv(url,names=names)\n",
    "df.head()"
   ]
  },
  {
   "cell_type": "code",
   "execution_count": 3,
   "metadata": {},
   "outputs": [
    {
     "data": {
      "text/html": [
       "<div>\n",
       "<style scoped>\n",
       "    .dataframe tbody tr th:only-of-type {\n",
       "        vertical-align: middle;\n",
       "    }\n",
       "\n",
       "    .dataframe tbody tr th {\n",
       "        vertical-align: top;\n",
       "    }\n",
       "\n",
       "    .dataframe thead th {\n",
       "        text-align: right;\n",
       "    }\n",
       "</style>\n",
       "<table border=\"1\" class=\"dataframe\">\n",
       "  <thead>\n",
       "    <tr style=\"text-align: right;\">\n",
       "      <th></th>\n",
       "      <th>Loan_ID</th>\n",
       "      <th>Gender</th>\n",
       "      <th>Married</th>\n",
       "      <th>Dependents</th>\n",
       "      <th>Education</th>\n",
       "      <th>Self_Employed</th>\n",
       "      <th>ApplicantIncome</th>\n",
       "      <th>CoapplicantIncome</th>\n",
       "      <th>LoanAmount</th>\n",
       "      <th>Loan_Amount_Term</th>\n",
       "      <th>Credit_History</th>\n",
       "      <th>Property_Area</th>\n",
       "      <th>Loan_Status</th>\n",
       "    </tr>\n",
       "  </thead>\n",
       "  <tbody>\n",
       "    <tr>\n",
       "      <th>0</th>\n",
       "      <td>LP001003</td>\n",
       "      <td>1</td>\n",
       "      <td>1</td>\n",
       "      <td>1</td>\n",
       "      <td>0</td>\n",
       "      <td>0</td>\n",
       "      <td>4583</td>\n",
       "      <td>1508.0</td>\n",
       "      <td>128</td>\n",
       "      <td>360</td>\n",
       "      <td>1</td>\n",
       "      <td>0</td>\n",
       "      <td>0</td>\n",
       "    </tr>\n",
       "    <tr>\n",
       "      <th>1</th>\n",
       "      <td>LP001005</td>\n",
       "      <td>1</td>\n",
       "      <td>1</td>\n",
       "      <td>0</td>\n",
       "      <td>0</td>\n",
       "      <td>1</td>\n",
       "      <td>3000</td>\n",
       "      <td>0.0</td>\n",
       "      <td>66</td>\n",
       "      <td>360</td>\n",
       "      <td>1</td>\n",
       "      <td>2</td>\n",
       "      <td>1</td>\n",
       "    </tr>\n",
       "    <tr>\n",
       "      <th>2</th>\n",
       "      <td>LP001006</td>\n",
       "      <td>1</td>\n",
       "      <td>1</td>\n",
       "      <td>0</td>\n",
       "      <td>1</td>\n",
       "      <td>0</td>\n",
       "      <td>2583</td>\n",
       "      <td>2358.0</td>\n",
       "      <td>120</td>\n",
       "      <td>360</td>\n",
       "      <td>1</td>\n",
       "      <td>2</td>\n",
       "      <td>1</td>\n",
       "    </tr>\n",
       "    <tr>\n",
       "      <th>3</th>\n",
       "      <td>LP001008</td>\n",
       "      <td>1</td>\n",
       "      <td>0</td>\n",
       "      <td>0</td>\n",
       "      <td>0</td>\n",
       "      <td>0</td>\n",
       "      <td>6000</td>\n",
       "      <td>0.0</td>\n",
       "      <td>141</td>\n",
       "      <td>360</td>\n",
       "      <td>1</td>\n",
       "      <td>2</td>\n",
       "      <td>1</td>\n",
       "    </tr>\n",
       "    <tr>\n",
       "      <th>4</th>\n",
       "      <td>LP001011</td>\n",
       "      <td>1</td>\n",
       "      <td>1</td>\n",
       "      <td>2</td>\n",
       "      <td>0</td>\n",
       "      <td>1</td>\n",
       "      <td>5417</td>\n",
       "      <td>4196.0</td>\n",
       "      <td>267</td>\n",
       "      <td>360</td>\n",
       "      <td>1</td>\n",
       "      <td>2</td>\n",
       "      <td>1</td>\n",
       "    </tr>\n",
       "  </tbody>\n",
       "</table>\n",
       "</div>"
      ],
      "text/plain": [
       "    Loan_ID  Gender  Married  Dependents  Education  Self_Employed  \\\n",
       "0  LP001003       1        1           1          0              0   \n",
       "1  LP001005       1        1           0          0              1   \n",
       "2  LP001006       1        1           0          1              0   \n",
       "3  LP001008       1        0           0          0              0   \n",
       "4  LP001011       1        1           2          0              1   \n",
       "\n",
       "   ApplicantIncome  CoapplicantIncome  LoanAmount  Loan_Amount_Term  \\\n",
       "0             4583             1508.0         128               360   \n",
       "1             3000                0.0          66               360   \n",
       "2             2583             2358.0         120               360   \n",
       "3             6000                0.0         141               360   \n",
       "4             5417             4196.0         267               360   \n",
       "\n",
       "   Credit_History  Property_Area  Loan_Status  \n",
       "0               1              0            0  \n",
       "1               1              2            1  \n",
       "2               1              2            1  \n",
       "3               1              2            1  \n",
       "4               1              2            1  "
      ]
     },
     "execution_count": 3,
     "metadata": {},
     "output_type": "execute_result"
    }
   ],
   "source": [
    "#convert categorical values to integer values\n",
    "number=LabelEncoder()\n",
    "df['Gender']=number.fit_transform(df['Gender'].astype(str))\n",
    "df['Married']=number.fit_transform(df['Married'].astype(str))\n",
    "df['Dependents']=number.fit_transform(df['Dependents'].astype(str))\n",
    "df['Education']=number.fit_transform(df['Education'].astype(str))\n",
    "df['Self_Employed']=number.fit_transform(df['Self_Employed'].astype(str))\n",
    "df['Property_Area']=number.fit_transform(df['Property_Area'].astype(str))\n",
    "df['Loan_Status']=number.fit_transform(df['Loan_Status'].astype(str))\n",
    "df.head()"
   ]
  },
  {
   "cell_type": "code",
   "execution_count": 4,
   "metadata": {},
   "outputs": [
    {
     "data": {
      "text/plain": [
       "array([[ 0.46719815,  0.73716237,  0.21859918, -0.50325312, -0.3992747 ,\n",
       "        -0.13796959, -0.02795204, -0.20808917,  0.27554157,  0.41319694,\n",
       "        -1.31886834],\n",
       "       [ 0.46719815,  0.73716237, -0.76203265, -0.50325312,  2.50454133,\n",
       "        -0.4175358 , -0.604633  , -0.97900085,  0.27554157,  0.41319694,\n",
       "         1.25977445],\n",
       "       [ 0.46719815,  0.73716237, -0.76203265,  1.98707162, -0.3992747 ,\n",
       "        -0.49118022,  0.29710022, -0.30756164,  0.27554157,  0.41319694,\n",
       "         1.25977445],\n",
       "       [ 0.46719815, -1.35655324, -0.76203265, -0.50325312, -0.3992747 ,\n",
       "         0.11228014, -0.604633  , -0.04644639,  0.27554157,  0.41319694,\n",
       "         1.25977445],\n",
       "       [ 0.46719815,  0.73716237,  1.19923101, -0.50325312,  2.50454133,\n",
       "         0.00931924,  0.99997795,  1.52024509,  0.27554157,  0.41319694,\n",
       "         1.25977445]])"
      ]
     },
     "execution_count": 4,
     "metadata": {},
     "output_type": "execute_result"
    }
   ],
   "source": [
    "#predictor values\n",
    "X=df[['Gender','Married','Dependents','Education','Self_Employed','ApplicantIncome','CoapplicantIncome','LoanAmount','Loan_Amount_Term','Credit_History','Property_Area']].values\n",
    "#scaling of parameters\n",
    "X=preprocessing.StandardScaler().fit(X).transform(X.astype(float))\n",
    "X[0:5]"
   ]
  },
  {
   "cell_type": "code",
   "execution_count": 5,
   "metadata": {},
   "outputs": [
    {
     "data": {
      "text/plain": [
       "0    0\n",
       "1    1\n",
       "2    1\n",
       "3    1\n",
       "4    1\n",
       "Name: Loan_Status, dtype: int32"
      ]
     },
     "execution_count": 5,
     "metadata": {},
     "output_type": "execute_result"
    }
   ],
   "source": [
    "#target values\n",
    "y=df['Loan_Status']\n",
    "y[0:5]\n"
   ]
  },
  {
   "cell_type": "code",
   "execution_count": 6,
   "metadata": {},
   "outputs": [],
   "source": [
    "#splitting\n",
    "X_train,X_test,Y_train,Y_test=train_test_split(X,y,test_size=0.2,random_state=4)"
   ]
  },
  {
   "cell_type": "code",
   "execution_count": 7,
   "metadata": {},
   "outputs": [
    {
     "data": {
      "text/plain": [
       "array([1, 1, 1, 1, 1, 1, 1, 0, 1, 1, 0, 1, 1, 1, 1, 1, 1, 1, 1, 1, 0, 1,\n",
       "       0, 1, 0, 0, 0, 1, 1, 1, 1, 1, 0, 1, 0, 0, 0, 1, 1, 1, 1, 1, 1, 1,\n",
       "       1, 1, 1, 1, 1, 1, 1, 1, 1, 1, 0, 1, 1, 1, 0, 1, 1, 1, 0, 1, 1, 1,\n",
       "       1, 1, 1, 1, 1, 1, 0, 1, 0, 1, 1, 1, 1, 1, 1, 1, 1, 1, 1, 1, 1, 0,\n",
       "       1, 1, 1, 1, 1, 1, 0, 1])"
      ]
     },
     "execution_count": 7,
     "metadata": {},
     "output_type": "execute_result"
    }
   ],
   "source": [
    "#KNN\n",
    "k=5\n",
    "neigh=KNeighborsClassifier(n_neighbors=k).fit(X_train,Y_train)\n",
    "y_=neigh.predict(X_test)\n",
    "y_"
   ]
  },
  {
   "cell_type": "code",
   "execution_count": 8,
   "metadata": {},
   "outputs": [
    {
     "name": "stdout",
     "output_type": "stream",
     "text": [
      "Training Set Accuracy: 0.8463541666666666\n",
      "Test Set Accuracy: 0.7395833333333334\n",
      "[[14 21]\n",
      " [ 4 57]]\n",
      "              precision    recall  f1-score   support\n",
      "\n",
      "           0       0.78      0.40      0.53        35\n",
      "           1       0.73      0.93      0.82        61\n",
      "\n",
      "    accuracy                           0.74        96\n",
      "   macro avg       0.75      0.67      0.67        96\n",
      "weighted avg       0.75      0.74      0.71        96\n",
      "\n"
     ]
    }
   ],
   "source": [
    "#KNN Accuracy\n",
    "print(\"Training Set Accuracy:\",metrics.accuracy_score(Y_train,neigh.predict(X_train)))\n",
    "print(\"Test Set Accuracy:\",metrics.accuracy_score(Y_test,y_))\n",
    "print(metrics.confusion_matrix(Y_test,y_))\n",
    "print(metrics.classification_report(Y_test,y_))"
   ]
  },
  {
   "cell_type": "code",
   "execution_count": 9,
   "metadata": {},
   "outputs": [
    {
     "data": {
      "text/plain": [
       "array([1, 1, 1, 1, 1, 1, 1, 0, 1, 1, 0, 1, 1, 1, 1, 1, 1, 1, 1, 1, 0, 1,\n",
       "       0, 1, 0, 0, 0, 1, 1, 1, 1, 1, 0, 1, 0, 0, 1, 1, 1, 1, 1, 1, 1, 1,\n",
       "       1, 1, 1, 1, 1, 1, 1, 1, 1, 1, 0, 1, 1, 1, 0, 1, 1, 1, 1, 1, 1, 1,\n",
       "       1, 1, 1, 1, 1, 1, 0, 1, 0, 1, 1, 1, 1, 1, 1, 0, 1, 1, 1, 1, 1, 0,\n",
       "       1, 1, 1, 0, 1, 1, 1, 1])"
      ]
     },
     "execution_count": 9,
     "metadata": {},
     "output_type": "execute_result"
    }
   ],
   "source": [
    "#Decision Tree\n",
    "tree=DecisionTreeClassifier(criterion=\"entropy\",max_depth=4)\n",
    "tree.fit(X_train,Y_train)\n",
    "ptree=tree.predict(X_test)\n",
    "ptree"
   ]
  },
  {
   "cell_type": "code",
   "execution_count": 10,
   "metadata": {},
   "outputs": [
    {
     "name": "stdout",
     "output_type": "stream",
     "text": [
      "Training Set Accuracy: 0.8567708333333334\n",
      "Test Set Accuracy: 0.7291666666666666\n",
      "[[13 22]\n",
      " [ 4 57]]\n",
      "              precision    recall  f1-score   support\n",
      "\n",
      "           0       0.76      0.37      0.50        35\n",
      "           1       0.72      0.93      0.81        61\n",
      "\n",
      "    accuracy                           0.73        96\n",
      "   macro avg       0.74      0.65      0.66        96\n",
      "weighted avg       0.74      0.73      0.70        96\n",
      "\n"
     ]
    }
   ],
   "source": [
    "#Decision Tree Accuracy\n",
    "print(\"Training Set Accuracy:\",metrics.accuracy_score(Y_train,tree.predict(X_train)))\n",
    "print(\"Test Set Accuracy:\",metrics.accuracy_score(Y_test,ptree))\n",
    "print(metrics.confusion_matrix(Y_test,ptree))\n",
    "print(metrics.classification_report(Y_test,ptree))"
   ]
  },
  {
   "cell_type": "code",
   "execution_count": 11,
   "metadata": {},
   "outputs": [
    {
     "data": {
      "text/plain": [
       "array([1, 1, 1, 1, 1, 1, 1, 0, 1, 1, 0, 1, 1, 1, 1, 1, 1, 1, 1, 1, 0, 1,\n",
       "       1, 1, 0, 0, 0, 1, 1, 1, 1, 1, 0, 1, 0, 0, 1, 1, 1, 1, 1, 1, 1, 1,\n",
       "       1, 1, 1, 1, 1, 1, 1, 1, 1, 1, 0, 1, 1, 1, 0, 1, 1, 1, 1, 1, 1, 1,\n",
       "       1, 1, 1, 1, 1, 1, 0, 1, 0, 1, 1, 1, 1, 1, 1, 1, 1, 1, 1, 1, 1, 0,\n",
       "       1, 1, 1, 0, 1, 1, 1, 1])"
      ]
     },
     "execution_count": 11,
     "metadata": {},
     "output_type": "execute_result"
    }
   ],
   "source": [
    "#Logistic Regression\n",
    "lr=LogisticRegression(C=0.01,solver='liblinear').fit(X_train,Y_train)\n",
    "y_=lr.predict(X_test)\n",
    "y_"
   ]
  },
  {
   "cell_type": "code",
   "execution_count": 12,
   "metadata": {},
   "outputs": [
    {
     "data": {
      "text/plain": [
       "array([[0.41596384, 0.58403616],\n",
       "       [0.37331114, 0.62668886],\n",
       "       [0.32794038, 0.67205962],\n",
       "       [0.29055953, 0.70944047],\n",
       "       [0.30946594, 0.69053406],\n",
       "       [0.37654068, 0.62345932],\n",
       "       [0.34105504, 0.65894496],\n",
       "       [0.68354292, 0.31645708],\n",
       "       [0.40098458, 0.59901542],\n",
       "       [0.32930771, 0.67069229],\n",
       "       [0.73280381, 0.26719619],\n",
       "       [0.38770951, 0.61229049],\n",
       "       [0.3623352 , 0.6376648 ],\n",
       "       [0.42625185, 0.57374815],\n",
       "       [0.32182288, 0.67817712],\n",
       "       [0.35163895, 0.64836105],\n",
       "       [0.33343987, 0.66656013],\n",
       "       [0.35186104, 0.64813896],\n",
       "       [0.3478113 , 0.6521887 ],\n",
       "       [0.3616733 , 0.6383267 ],\n",
       "       [0.72128013, 0.27871987],\n",
       "       [0.32094684, 0.67905316],\n",
       "       [0.49430728, 0.50569272],\n",
       "       [0.41550308, 0.58449692],\n",
       "       [0.67348276, 0.32651724],\n",
       "       [0.64418607, 0.35581393],\n",
       "       [0.68407624, 0.31592376],\n",
       "       [0.40569657, 0.59430343],\n",
       "       [0.38213646, 0.61786354],\n",
       "       [0.34803109, 0.65196891],\n",
       "       [0.38515813, 0.61484187],\n",
       "       [0.31215673, 0.68784327],\n",
       "       [0.72675595, 0.27324405],\n",
       "       [0.33646091, 0.66353909],\n",
       "       [0.70656683, 0.29343317],\n",
       "       [0.71026885, 0.28973115],\n",
       "       [0.33928736, 0.66071264],\n",
       "       [0.32290016, 0.67709984],\n",
       "       [0.39929584, 0.60070416],\n",
       "       [0.32974065, 0.67025935],\n",
       "       [0.35180731, 0.64819269],\n",
       "       [0.35623223, 0.64376777],\n",
       "       [0.38759924, 0.61240076],\n",
       "       [0.37835833, 0.62164167],\n",
       "       [0.42037193, 0.57962807],\n",
       "       [0.30974094, 0.69025906],\n",
       "       [0.33884625, 0.66115375],\n",
       "       [0.36338191, 0.63661809],\n",
       "       [0.41750299, 0.58249701],\n",
       "       [0.38375252, 0.61624748],\n",
       "       [0.37274761, 0.62725239],\n",
       "       [0.33607537, 0.66392463],\n",
       "       [0.29357694, 0.70642306],\n",
       "       [0.33262539, 0.66737461],\n",
       "       [0.77538576, 0.22461424],\n",
       "       [0.33357227, 0.66642773],\n",
       "       [0.35580071, 0.64419929],\n",
       "       [0.32374366, 0.67625634],\n",
       "       [0.65927899, 0.34072101],\n",
       "       [0.36861062, 0.63138938],\n",
       "       [0.33428149, 0.66571851],\n",
       "       [0.3459265 , 0.6540735 ],\n",
       "       [0.43957645, 0.56042355],\n",
       "       [0.33143629, 0.66856371],\n",
       "       [0.32512308, 0.67487692],\n",
       "       [0.34472799, 0.65527201],\n",
       "       [0.3684091 , 0.6315909 ],\n",
       "       [0.35895663, 0.64104337],\n",
       "       [0.37505098, 0.62494902],\n",
       "       [0.3514053 , 0.6485947 ],\n",
       "       [0.3172745 , 0.6827255 ],\n",
       "       [0.38226306, 0.61773694],\n",
       "       [0.6325688 , 0.3674312 ],\n",
       "       [0.37858441, 0.62141559],\n",
       "       [0.675998  , 0.324002  ],\n",
       "       [0.38427505, 0.61572495],\n",
       "       [0.39402568, 0.60597432],\n",
       "       [0.37312635, 0.62687365],\n",
       "       [0.33141901, 0.66858099],\n",
       "       [0.29682286, 0.70317714],\n",
       "       [0.38115327, 0.61884673],\n",
       "       [0.33486705, 0.66513295],\n",
       "       [0.39115878, 0.60884122],\n",
       "       [0.32289392, 0.67710608],\n",
       "       [0.37925394, 0.62074606],\n",
       "       [0.37813426, 0.62186574],\n",
       "       [0.32536844, 0.67463156],\n",
       "       [0.64589552, 0.35410448],\n",
       "       [0.33801765, 0.66198235],\n",
       "       [0.33170303, 0.66829697],\n",
       "       [0.35646695, 0.64353305],\n",
       "       [0.75480662, 0.24519338],\n",
       "       [0.30755212, 0.69244788],\n",
       "       [0.34701868, 0.65298132],\n",
       "       [0.35677711, 0.64322289],\n",
       "       [0.4038149 , 0.5961851 ]])"
      ]
     },
     "execution_count": 12,
     "metadata": {},
     "output_type": "execute_result"
    }
   ],
   "source": [
    "#target values probability\n",
    "y_prob=lr.predict_proba(X_test)\n",
    "y_prob"
   ]
  },
  {
   "cell_type": "code",
   "execution_count": 13,
   "metadata": {},
   "outputs": [
    {
     "name": "stdout",
     "output_type": "stream",
     "text": [
      "Training Set Accuracy: 0.8255208333333334\n",
      "Testing Set Accuracy: 0.75\n",
      "[[13 22]\n",
      " [ 2 59]]\n",
      "              precision    recall  f1-score   support\n",
      "\n",
      "           0       0.87      0.37      0.52        35\n",
      "           1       0.73      0.97      0.83        61\n",
      "\n",
      "    accuracy                           0.75        96\n",
      "   macro avg       0.80      0.67      0.68        96\n",
      "weighted avg       0.78      0.75      0.72        96\n",
      "\n"
     ]
    }
   ],
   "source": [
    "#Logistic Regression Accuracy\n",
    "print(\"Training Set Accuracy:\",metrics.accuracy_score(Y_train,lr.predict(X_train)))\n",
    "print(\"Testing Set Accuracy:\",metrics.accuracy_score(Y_test,y_))\n",
    "print(metrics.confusion_matrix(Y_test,y_))\n",
    "print(metrics.classification_report(Y_test,y_))"
   ]
  },
  {
   "cell_type": "code",
   "execution_count": null,
   "metadata": {},
   "outputs": [],
   "source": []
  }
 ],
 "metadata": {
  "kernelspec": {
   "display_name": "Python 3",
   "language": "python",
   "name": "python3"
  },
  "language_info": {
   "codemirror_mode": {
    "name": "ipython",
    "version": 3
   },
   "file_extension": ".py",
   "mimetype": "text/x-python",
   "name": "python",
   "nbconvert_exporter": "python",
   "pygments_lexer": "ipython3",
   "version": "3.7.6"
  }
 },
 "nbformat": 4,
 "nbformat_minor": 4
}
